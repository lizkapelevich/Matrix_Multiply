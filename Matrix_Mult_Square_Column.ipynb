{
 "cells": [
  {
   "cell_type": "markdown",
   "id": "7728d039",
   "metadata": {},
   "source": [
    "# Matrix Multiplication"
   ]
  },
  {
   "cell_type": "code",
   "execution_count": 2,
   "id": "ce3a789e",
   "metadata": {},
   "outputs": [],
   "source": [
    "import numpy as np\n",
    "import Matrix_Mult_Func as mmf"
   ]
  },
  {
   "cell_type": "code",
   "execution_count": 3,
   "id": "1e3b44db",
   "metadata": {
    "scrolled": true
   },
   "outputs": [],
   "source": [
    "a = np.array([[1, 2], [3, 4]])\n",
    "b = np.array([[5, 6], [7, 8]])"
   ]
  },
  {
   "cell_type": "code",
   "execution_count": 4,
   "id": "3879bd38",
   "metadata": {},
   "outputs": [
    {
     "data": {
      "text/plain": [
       "array([[19., 22.],\n",
       "       [43., 50.]])"
      ]
     },
     "execution_count": 4,
     "metadata": {},
     "output_type": "execute_result"
    }
   ],
   "source": [
    "# calling the matrix multiplcation function from the VIM file\n",
    "\n",
    "mmf.mat_mult(a, b)"
   ]
  },
  {
   "cell_type": "code",
   "execution_count": 5,
   "id": "8b64d37b",
   "metadata": {},
   "outputs": [
    {
     "data": {
      "text/plain": [
       "array([[19., 22.],\n",
       "       [43., 50.]])"
      ]
     },
     "execution_count": 5,
     "metadata": {},
     "output_type": "execute_result"
    }
   ],
   "source": [
    "# calling the matrix multiplcation function from the VIM file\n",
    "\n",
    "mmf.mat_mult2(a, b)"
   ]
  },
  {
   "cell_type": "code",
   "execution_count": 12,
   "id": "187a5f68",
   "metadata": {
    "scrolled": true
   },
   "outputs": [
    {
     "name": "stdout",
     "output_type": "stream",
     "text": [
      "First row of Matrix A: [1 2]\n",
      "First column of matrix B: [5 7]\n",
      "Shape of Matrix A: (2, 2)\n"
     ]
    }
   ],
   "source": [
    "print(\"First row of Matrix A:\", a[0])\n",
    "print(\"First column of matrix B:\", b[:,0])\n",
    "print(\"Shape of Matrix A:\", np.shape(a))"
   ]
  },
  {
   "cell_type": "markdown",
   "id": "56e64614",
   "metadata": {},
   "source": [
    "### Generalize the function for any size and shape matrix using NumPy:"
   ]
  },
  {
   "cell_type": "code",
   "execution_count": 109,
   "id": "87d76102",
   "metadata": {},
   "outputs": [
    {
     "data": {
      "text/plain": [
       "(2, 2, 2)"
      ]
     },
     "execution_count": 109,
     "metadata": {},
     "output_type": "execute_result"
    }
   ],
   "source": [
    "a = np.array([[1, 2], [3, 4]])\n",
    "b = np.array([1, 2])\n",
    "c = np.array([[1, 2, 5], [3, 4, 5]])\n",
    "d = np.array([[1, 2], [2, 3], [3, 4]])\n",
    "len(a), len(b), len(c)"
   ]
  },
  {
   "cell_type": "code",
   "execution_count": 112,
   "id": "0f46a346",
   "metadata": {},
   "outputs": [
    {
     "data": {
      "text/plain": [
       "((2, 2), (2,), (2, 3), (3, 2))"
      ]
     },
     "execution_count": 112,
     "metadata": {},
     "output_type": "execute_result"
    }
   ],
   "source": [
    "np.shape(a), np.shape(b), np.shape(c), np.shape(d)"
   ]
  },
  {
   "cell_type": "code",
   "execution_count": 104,
   "id": "b4e1dd5b",
   "metadata": {},
   "outputs": [],
   "source": [
    "def rows_and_cols(x):\n",
    "    y = np.shape(x)\n",
    "    z = len(y)\n",
    "    if z > 1:\n",
    "        return y\n",
    "    else:\n",
    "        return (y[0], 1)"
   ]
  },
  {
   "cell_type": "code",
   "execution_count": 105,
   "id": "b0a94899",
   "metadata": {},
   "outputs": [
    {
     "data": {
      "text/plain": [
       "(5, 1)"
      ]
     },
     "execution_count": 105,
     "metadata": {},
     "output_type": "execute_result"
    }
   ],
   "source": [
    "rows_and_cols(np.array([1, 2, 3, 4, 5]))"
   ]
  },
  {
   "cell_type": "code",
   "execution_count": 129,
   "id": "311f6e4d",
   "metadata": {},
   "outputs": [],
   "source": [
    "def mat_sq_col1(aa, bb):\n",
    "    dim_aa = rows_and_cols(aa)\n",
    "    dim_bb = rows_and_cols(bb)\n",
    "    assert dim_aa[1] == dim_bb[0], print(\"Matrices cannot be multiplied\")\n",
    "    \n",
    "    cc = np.zeros((dim_aa[0], dim_bb[1]))\n",
    "    if dim_bb[1] == 1:\n",
    "        cc = cc.flatten()\n",
    "        for ii in range(0, dim_aa[0]):\n",
    "            cc[ii] = np.sum(aa[ii]*bb)\n",
    "    else:\n",
    "        for ii in range(0, dim_aa[0]):\n",
    "            for jj in range(0, dim_bb[1]):\n",
    "                cc[ii, jj] = np.sum(aa[ii]*bb[:,jj])\n",
    "    return cc"
   ]
  },
  {
   "cell_type": "code",
   "execution_count": 135,
   "id": "20dbcca4",
   "metadata": {},
   "outputs": [
    {
     "data": {
      "text/plain": [
       "array([[15., 30., 45., 60.],\n",
       "       [15., 30., 45., 60.],\n",
       "       [15., 30., 45., 60.],\n",
       "       [15., 30., 45., 60.]])"
      ]
     },
     "execution_count": 135,
     "metadata": {},
     "output_type": "execute_result"
    }
   ],
   "source": [
    "mat_sq_col1(f, g)"
   ]
  },
  {
   "cell_type": "code",
   "execution_count": 134,
   "id": "3ec94e01",
   "metadata": {},
   "outputs": [
    {
     "name": "stdout",
     "output_type": "stream",
     "text": [
      "[[15. 30. 45. 60.]\n",
      " [15. 30. 45. 60.]\n",
      " [15. 30. 45. 60.]\n",
      " [15. 30. 45. 60.]] (4, 4)\n"
     ]
    }
   ],
   "source": [
    "f = np.array([[1, 2, 3, 4, 5],\n",
    "              [1, 2, 3, 4, 5],\n",
    "              [1, 2, 3, 4, 5],\n",
    "              [1, 2, 3, 4, 5]])\n",
    "\n",
    "g = np.array([[1, 2, 3, 4],\n",
    "              [1, 2, 3, 4],\n",
    "              [1, 2, 3, 4],\n",
    "              [1, 2, 3, 4],\n",
    "              [1, 2, 3, 4]])\n",
    "\n",
    "xx = mat_sq_col1(ff, gg)\n",
    "print(xx, np.shape(xx))"
   ]
  }
 ],
 "metadata": {
  "kernelspec": {
   "display_name": "Research",
   "language": "python",
   "name": "research"
  },
  "language_info": {
   "codemirror_mode": {
    "name": "ipython",
    "version": 3
   },
   "file_extension": ".py",
   "mimetype": "text/x-python",
   "name": "python",
   "nbconvert_exporter": "python",
   "pygments_lexer": "ipython3",
   "version": "3.9.7"
  }
 },
 "nbformat": 4,
 "nbformat_minor": 5
}
