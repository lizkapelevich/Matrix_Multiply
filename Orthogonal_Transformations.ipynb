{
 "cells": [
  {
   "cell_type": "markdown",
   "id": "7728d039",
   "metadata": {},
   "source": [
    "# Orthogonal Transformations Using Vectors and Matrices"
   ]
  },
  {
   "cell_type": "code",
   "execution_count": 11,
   "id": "ce3a789e",
   "metadata": {},
   "outputs": [],
   "source": [
    "import numpy as np\n",
    "import Vector_Transformation as vt"
   ]
  },
  {
   "cell_type": "markdown",
   "id": "e6fad90a",
   "metadata": {},
   "source": [
    "### Define a vector in 3D"
   ]
  },
  {
   "cell_type": "code",
   "execution_count": 15,
   "id": "2fadd41c",
   "metadata": {},
   "outputs": [
    {
     "name": "stdout",
     "output_type": "stream",
     "text": [
      "[1 2 3]\n"
     ]
    }
   ],
   "source": [
    "A = np.array([1, 2, 3])\n",
    "print(A)"
   ]
  },
  {
   "cell_type": "markdown",
   "id": "bda6716b",
   "metadata": {},
   "source": [
    "### Rotation by an angle $\\theta = \\frac{\\pi}{4}$ about the $z$ axis"
   ]
  },
  {
   "cell_type": "code",
   "execution_count": 5,
   "id": "6f95dcac",
   "metadata": {},
   "outputs": [
    {
     "name": "stdout",
     "output_type": "stream",
     "text": [
      "[2.12132034 0.70710678 3.        ]\n"
     ]
    }
   ],
   "source": [
    "rot_obj = vt.Rotation(np.pi/4)\n",
    "A_prime = rot_obj.rotate(A)\n",
    "print(A_prime)"
   ]
  },
  {
   "cell_type": "markdown",
   "id": "61d75618",
   "metadata": {},
   "source": [
    "### Successive rotations about two angles $\\theta_1 = \\frac{\\pi}{4}$ and $\\theta_2 = \\frac{\\pi}{3}$"
   ]
  },
  {
   "cell_type": "code",
   "execution_count": null,
   "id": "333fd5c2",
   "metadata": {},
   "outputs": [],
   "source": []
  },
  {
   "cell_type": "markdown",
   "id": "1a3f243d",
   "metadata": {},
   "source": [
    "### Rotate by $\\theta_1 = \\frac{\\pi}{3}$ and then $\\theta_2 = -\\frac{\\pi}{3}$"
   ]
  },
  {
   "cell_type": "code",
   "execution_count": null,
   "id": "bda9175b",
   "metadata": {},
   "outputs": [],
   "source": []
  },
  {
   "cell_type": "markdown",
   "id": "7d2ba059",
   "metadata": {},
   "source": [
    "### Show that a vector $|\\vec{A}|$ stays same after rotation by $\\theta = \\frac{\\pi}{6}$"
   ]
  },
  {
   "cell_type": "code",
   "execution_count": null,
   "id": "6df966db",
   "metadata": {},
   "outputs": [],
   "source": []
  },
  {
   "cell_type": "markdown",
   "id": "bf868112",
   "metadata": {},
   "source": [
    "### Show that the dot product is invariant under rotation."
   ]
  },
  {
   "cell_type": "code",
   "execution_count": 9,
   "id": "17c394d6",
   "metadata": {},
   "outputs": [],
   "source": []
  }
 ],
 "metadata": {
  "kernelspec": {
   "display_name": "research",
   "language": "python",
   "name": "research"
  },
  "language_info": {
   "codemirror_mode": {
    "name": "ipython",
    "version": 3
   },
   "file_extension": ".py",
   "mimetype": "text/x-python",
   "name": "python",
   "nbconvert_exporter": "python",
   "pygments_lexer": "ipython3",
   "version": "3.8.11"
  }
 },
 "nbformat": 4,
 "nbformat_minor": 5
}
