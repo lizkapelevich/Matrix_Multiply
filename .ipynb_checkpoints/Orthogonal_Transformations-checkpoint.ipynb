{
 "cells": [
  {
   "cell_type": "markdown",
   "id": "7728d039",
   "metadata": {},
   "source": [
    "# Orthogonal Transformations Using Vectors and Matrices"
   ]
  },
  {
   "cell_type": "markdown",
   "id": "1441cd70",
   "metadata": {},
   "source": [
    "#### Write a function that will take as input an angle, theta, in radians, and an axis, and return a 3x3 matrix corresponding to the rotation about that axis by the given angle. This function must produce the required transformation matrix for a given angle of rotation."
   ]
  },
  {
   "cell_type": "markdown",
   "id": "df2515f8",
   "metadata": {},
   "source": [
    "#### Once the function is created, call the matrix multiplication function used previously with two arguments as usual: the first one being the return of the rotation function call, and the second one being a 2x1 column matrix, which is a vector."
   ]
  },
  {
   "cell_type": "markdown",
   "id": "5f439620",
   "metadata": {},
   "source": [
    "#### Then create a single function that will take as input an angle and the cartesian components of a two-dimensional vector and return the components after a rotation by the supplied angle."
   ]
  },
  {
   "cell_type": "code",
   "execution_count": 42,
   "id": "ce3a789e",
   "metadata": {},
   "outputs": [],
   "source": [
    "import numpy as np\n",
    "import math\n",
    "import Matrix_Mult_Func as mmf"
   ]
  },
  {
   "cell_type": "code",
   "execution_count": 52,
   "id": "395f03f8",
   "metadata": {},
   "outputs": [],
   "source": [
    "def trig_matrix(angle, axis):    \n",
    "    \n",
    "    if axis == \"x\":\n",
    "        return print(np.array([[1, 0, 0],\n",
    "                          [0, np.cos(angle), np.sin(angle)],\n",
    "                          [0, -np.sin(angle), np.cos(angle)]]))\n",
    "    if axis == \"y\":\n",
    "        return print(np.array([[np.cos(angle), 0, np.sin(angle)],\n",
    "                          [0, 1, 0],\n",
    "                          [ -np.sin(angle), 0, np.cos(angle)]]))\n",
    "    if axis == \"z\":\n",
    "        return print(np.array([[np.cos(angle), np.sin(angle), 0],\n",
    "                          [-np.sin(angle), np.cos(angle), 0],\n",
    "                          [0, 0, 1]]))\n",
    "    else:\n",
    "        print(\"The axis should be with respect to x, y, or z.\")"
   ]
  },
  {
   "cell_type": "code",
   "execution_count": 55,
   "id": "ab63f027",
   "metadata": {},
   "outputs": [],
   "source": [
    "def rotation_matrix(A, A_prime, R, angle):\n",
    "    A_prime = R*angle*A"
   ]
  },
  {
   "cell_type": "code",
   "execution_count": 56,
   "id": "08985693",
   "metadata": {},
   "outputs": [
    {
     "name": "stdout",
     "output_type": "stream",
     "text": [
      "[[ 1.  0.  0.]\n",
      " [ 0.  1.  0.]\n",
      " [ 0. -0.  1.]]\n"
     ]
    }
   ],
   "source": [
    "trig_matrix(0, \"x\")"
   ]
  },
  {
   "cell_type": "code",
   "execution_count": null,
   "id": "999cee9f",
   "metadata": {},
   "outputs": [],
   "source": []
  }
 ],
 "metadata": {
  "kernelspec": {
   "display_name": "Research",
   "language": "python",
   "name": "research"
  },
  "language_info": {
   "codemirror_mode": {
    "name": "ipython",
    "version": 3
   },
   "file_extension": ".py",
   "mimetype": "text/x-python",
   "name": "python",
   "nbconvert_exporter": "python",
   "pygments_lexer": "ipython3",
   "version": "3.9.7"
  }
 },
 "nbformat": 4,
 "nbformat_minor": 5
}
