{
 "cells": [
  {
   "cell_type": "markdown",
   "id": "55ef3c86",
   "metadata": {},
   "source": [
    "# Matrix Multiplication"
   ]
  },
  {
   "cell_type": "code",
   "execution_count": 2,
   "id": "ce3a789e",
   "metadata": {},
   "outputs": [],
   "source": [
    "import numpy as np\n",
    "import Matrix_Mult_Func as mmf"
   ]
  },
  {
   "cell_type": "code",
   "execution_count": 3,
   "id": "1e3b44db",
   "metadata": {
    "scrolled": true
   },
   "outputs": [],
   "source": [
    "a = np.array([[1, 2], [3, 4]])\n",
    "b = np.array([[5, 6], [7, 8]])"
   ]
  },
  {
   "cell_type": "code",
   "execution_count": 4,
   "id": "cda4377e",
   "metadata": {},
   "outputs": [
    {
     "data": {
      "text/plain": [
       "array([[19., 22.],\n",
       "       [43., 50.]])"
      ]
     },
     "execution_count": 4,
     "metadata": {},
     "output_type": "execute_result"
    }
   ],
   "source": [
    "# calling the matrix multiplcation function from the VIM file\n",
    "\n",
    "mmf.mat_mult(a, b)"
   ]
  },
  {
   "cell_type": "code",
   "execution_count": 5,
   "id": "8b64d37b",
   "metadata": {},
   "outputs": [
    {
     "data": {
      "text/plain": [
       "array([[19., 22.],\n",
       "       [43., 50.]])"
      ]
     },
     "execution_count": 5,
     "metadata": {},
     "output_type": "execute_result"
    }
   ],
   "source": [
    "# calling the matrix multiplcation function from the VIM file\n",
    "\n",
    "mmf.mat_mult2(a, b)"
   ]
  },
  {
   "cell_type": "code",
   "execution_count": 12,
   "id": "187a5f68",
   "metadata": {
    "scrolled": true
   },
   "outputs": [
    {
     "name": "stdout",
     "output_type": "stream",
     "text": [
      "First row of Matrix A: [1 2]\n",
      "First column of matrix B: [5 7]\n",
      "Shape of Matrix A: (2, 2)\n"
     ]
    }
   ],
   "source": [
    "print(\"First row of Matrix A:\", a[0])\n",
    "print(\"First column of matrix B:\", b[:,0])\n",
    "print(\"Shape of Matrix A:\", np.shape(a))"
   ]
  },
  {
   "cell_type": "markdown",
   "id": "9ef109af",
   "metadata": {},
   "source": [
    "### Generalize the function for any size and shape matrix using NumPy:"
   ]
  },
  {
   "cell_type": "code",
   "execution_count": 76,
   "id": "833a52e4",
   "metadata": {},
   "outputs": [],
   "source": [
    "def mat_sq_col(ff,gg):\n",
    "\n",
    "    hh = np.zeros(np.shape(ff))\n",
    "    pp = len(hh)\n",
    "    for ii in range(0, pp):\n",
    "        for jj in range(0, pp):\n",
    "            gg == gg.T\n",
    "            hh[ii, jj] = np.sum(ff[ii]*gg[:,jj])\n",
    "    return hh"
   ]
  },
  {
   "cell_type": "code",
   "execution_count": 84,
   "id": "59690928",
   "metadata": {},
   "outputs": [],
   "source": [
    "def mat_sq_col2(ff,gg):\n",
    "\n",
    "    hh = np.zeros((min(np.shape(ff)),min(np.shape(gg))))\n",
    "    pp = len(hh)\n",
    "    for ii in range(0, pp):\n",
    "        for jj in range(0, pp):\n",
    "            gg == gg.T\n",
    "            hh[ii, jj] = np.sum(ff[ii]*gg[:,jj])\n",
    "    return hh"
   ]
  },
  {
   "cell_type": "code",
   "execution_count": 85,
   "id": "a62199ff",
   "metadata": {},
   "outputs": [
    {
     "name": "stdout",
     "output_type": "stream",
     "text": [
      "[[15. 30. 45. 60.]\n",
      " [15. 30. 45. 60.]\n",
      " [15. 30. 45. 60.]\n",
      " [15. 30. 45. 60.]] (4, 4)\n"
     ]
    },
    {
     "name": "stderr",
     "output_type": "stream",
     "text": [
      "/var/folders/05/_m4lkjtn3p16v6rjlk_zcqvh0000gr/T/ipykernel_87223/432485339.py:7: DeprecationWarning: elementwise comparison failed; this will raise an error in the future.\n",
      "  gg == gg.T\n"
     ]
    }
   ],
   "source": [
    "ff = np.array([[1, 2, 3, 4, 5],\n",
    "              [1, 2, 3, 4, 5],\n",
    "              [1, 2, 3, 4, 5],\n",
    "              [1, 2, 3, 4, 5]])\n",
    "\n",
    "gg = np.array([[1, 2, 3, 4],\n",
    "              [1, 2, 3, 4],\n",
    "              [1, 2, 3, 4],\n",
    "              [1, 2, 3, 4],\n",
    "              [1, 2, 3, 4]])\n",
    "\n",
    "xx = mat_sq_col2(ff, gg)\n",
    "print(xx, np.shape(xx))"
   ]
  },
  {
   "cell_type": "markdown",
   "id": "5121f6e0",
   "metadata": {},
   "source": [
    "### Generalize the function for any size matrices of the same shape using NumPy:"
   ]
  },
  {
   "cell_type": "code",
   "execution_count": 7,
   "id": "a5685d28",
   "metadata": {},
   "outputs": [
    {
     "data": {
      "text/plain": [
       "array([[1., 2., 3.],\n",
       "       [4., 5., 6.],\n",
       "       [7., 8., 9.]])"
      ]
     },
     "execution_count": 7,
     "metadata": {},
     "output_type": "execute_result"
    }
   ],
   "source": [
    "a = np.array([[1, 2, 3], [4, 5, 6], [7, 8, 9]])\n",
    "b = np.array([[1, 0, 0], [0, 1, 0], [0, 0, 1]])\n",
    "mmf.mat_mult(a, b)"
   ]
  },
  {
   "cell_type": "markdown",
   "id": "fa401f65",
   "metadata": {},
   "source": [
    "#### Write a similar code from VIM function (mmf.mat_mult) that will complete an orthogonal transformation"
   ]
  },
  {
   "cell_type": "code",
   "execution_count": null,
   "id": "6a3b0334",
   "metadata": {},
   "outputs": [],
   "source": []
  }
 ],
 "metadata": {
  "kernelspec": {
   "display_name": "Research",
   "language": "python",
   "name": "research"
  },
  "language_info": {
   "codemirror_mode": {
    "name": "ipython",
    "version": 3
   },
   "file_extension": ".py",
   "mimetype": "text/x-python",
   "name": "python",
   "nbconvert_exporter": "python",
   "pygments_lexer": "ipython3",
   "version": "3.9.7"
  }
 },
 "nbformat": 4,
 "nbformat_minor": 5
}
