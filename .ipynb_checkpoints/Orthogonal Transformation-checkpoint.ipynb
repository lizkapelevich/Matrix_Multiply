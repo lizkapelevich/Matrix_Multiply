{
 "cells": [
  {
   "cell_type": "markdown",
   "id": "7728d039",
   "metadata": {},
   "source": [
    "# Orthogonal Transformations using Vectors and Matrices"
   ]
  },
  {
   "cell_type": "markdown",
   "id": "1441cd70",
   "metadata": {},
   "source": [
    "#### Construct a function that will take an angle in radians as the input and construct a 2x2 matrix that will output its' values. This function must produce the required transformation matrix for a given angle of rotation."
   ]
  },
  {
   "cell_type": "markdown",
   "id": "df2515f8",
   "metadata": {},
   "source": [
    "#### Once the function is created, call the matrix multiplication function used previously with two arguments as usual: the first one being the return of the rotation function call, and the second one being a 2x1 column matrix, which is a vector."
   ]
  },
  {
   "cell_type": "markdown",
   "id": "5f439620",
   "metadata": {},
   "source": [
    "#### Then create a single function that will take as input an angle and the cartesian components of a two-dimensional vector and return the components after a rotation by the supplied angle."
   ]
  },
  {
   "cell_type": "code",
   "execution_count": 1,
   "id": "ce3a789e",
   "metadata": {},
   "outputs": [],
   "source": [
    "import numpy as np\n",
    "import Matrix_Mult_Func as mmf"
   ]
  },
  {
   "cell_type": "code",
   "execution_count": 3,
   "id": "ab63f027",
   "metadata": {},
   "outputs": [],
   "source": [
    "def rotation_func(angle):\n",
    "    "
   ]
  },
  {
   "cell_type": "code",
   "execution_count": 4,
   "id": "08985693",
   "metadata": {},
   "outputs": [
    {
     "ename": "NameError",
     "evalue": "name 'theta' is not defined",
     "output_type": "error",
     "traceback": [
      "\u001b[1;31m---------------------------------------------------------------------------\u001b[0m",
      "\u001b[1;31mNameError\u001b[0m                                 Traceback (most recent call last)",
      "\u001b[1;32m~\\AppData\\Local\\Temp/ipykernel_24080/920108164.py\u001b[0m in \u001b[0;36m<module>\u001b[1;34m\u001b[0m\n\u001b[1;32m----> 1\u001b[1;33m R = np.array([[np.cos(theta), np.sin(theta),\n\u001b[0m\u001b[0;32m      2\u001b[0m               [-np.sin(theta), np.cos(theta)]]])\n",
      "\u001b[1;31mNameError\u001b[0m: name 'theta' is not defined"
     ]
    }
   ],
   "source": [
    "R = np.array([[np.cos(theta), np.sin(theta),\n",
    "              [-np.sin(theta), np.cos(theta)]]])"
   ]
  },
  {
   "cell_type": "code",
   "execution_count": null,
   "id": "999cee9f",
   "metadata": {},
   "outputs": [],
   "source": []
  }
 ],
 "metadata": {
  "kernelspec": {
   "display_name": "research",
   "language": "python",
   "name": "research"
  },
  "language_info": {
   "codemirror_mode": {
    "name": "ipython",
    "version": 3
   },
   "file_extension": ".py",
   "mimetype": "text/x-python",
   "name": "python",
   "nbconvert_exporter": "python",
   "pygments_lexer": "ipython3",
   "version": "3.8.11"
  }
 },
 "nbformat": 4,
 "nbformat_minor": 5
}
