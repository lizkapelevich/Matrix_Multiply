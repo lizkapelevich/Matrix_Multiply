{
 "cells": [
  {
   "cell_type": "code",
   "execution_count": 1,
   "id": "ce3a789e",
   "metadata": {},
   "outputs": [],
   "source": [
    "import numpy as np\n",
    "import Matrix_Mult_Func as mmf"
   ]
  },
  {
   "cell_type": "markdown",
   "id": "149f8350",
   "metadata": {},
   "source": [
    "### Generalize the function for any size matrices of the same shape:"
   ]
  },
  {
   "cell_type": "code",
   "execution_count": 2,
   "id": "1e3b44db",
   "metadata": {},
   "outputs": [
    {
     "data": {
      "text/plain": [
       "array([[19., 22.],\n",
       "       [43., 50.]])"
      ]
     },
     "execution_count": 2,
     "metadata": {},
     "output_type": "execute_result"
    }
   ],
   "source": [
    "a = np.array([[1, 2], [3, 4]])\n",
    "b = np.array([[5, 6], [7, 8]])\n",
    "mmf.mat_mult(a, b)"
   ]
  },
  {
   "cell_type": "code",
   "execution_count": 3,
   "id": "8b64d37b",
   "metadata": {},
   "outputs": [
    {
     "data": {
      "text/plain": [
       "array([[19., 22.],\n",
       "       [43., 50.]])"
      ]
     },
     "execution_count": 3,
     "metadata": {},
     "output_type": "execute_result"
    }
   ],
   "source": [
    "mmf.mat_mult2(a, b)"
   ]
  },
  {
   "cell_type": "code",
   "execution_count": 4,
   "id": "187a5f68",
   "metadata": {},
   "outputs": [
    {
     "data": {
      "text/plain": [
       "array([5, 7])"
      ]
     },
     "execution_count": 4,
     "metadata": {},
     "output_type": "execute_result"
    }
   ],
   "source": [
    "a[0]   # row\n",
    "b[:,0] # column"
   ]
  },
  {
   "cell_type": "markdown",
   "id": "5121f6e0",
   "metadata": {},
   "source": [
    "### Generalize the function for any size matrices of the same shape using NumPy:"
   ]
  },
  {
   "cell_type": "code",
   "execution_count": 7,
   "id": "a5685d28",
   "metadata": {},
   "outputs": [
    {
     "data": {
      "text/plain": [
       "array([[1., 2., 3.],\n",
       "       [4., 5., 6.],\n",
       "       [7., 8., 9.]])"
      ]
     },
     "execution_count": 7,
     "metadata": {},
     "output_type": "execute_result"
    }
   ],
   "source": [
    "a = np.array([[1, 2, 3], [4, 5, 6], [7, 8, 9]])\n",
    "b = np.array([[1, 0, 0], [0, 1, 0], [0, 0, 1]])\n",
    "mmf.mat_mult(a, b)"
   ]
  },
  {
   "cell_type": "markdown",
   "id": "fa401f65",
   "metadata": {},
   "source": [
    "Write a similar code from VIM function (mmf.mat_mult)that will complete an orthogonal transformation"
   ]
  }
 ],
 "metadata": {
  "kernelspec": {
   "display_name": "Research",
   "language": "python",
   "name": "research"
  },
  "language_info": {
   "codemirror_mode": {
    "name": "ipython",
    "version": 3
   },
   "file_extension": ".py",
   "mimetype": "text/x-python",
   "name": "python",
   "nbconvert_exporter": "python",
   "pygments_lexer": "ipython3",
   "version": "3.9.7"
  }
 },
 "nbformat": 4,
 "nbformat_minor": 5
}
