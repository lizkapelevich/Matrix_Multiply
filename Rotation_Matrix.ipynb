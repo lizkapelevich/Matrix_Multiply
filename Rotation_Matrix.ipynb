{
 "cells": [
  {
   "cell_type": "markdown",
   "id": "4852e9b5",
   "metadata": {},
   "source": [
    "#### Construct a function that will take an angle in radians as the input and construct a 2x2 matrix that will output its' values. This function must produce the required transformation matrix for a given angle of rotation."
   ]
  },
  {
   "cell_type": "markdown",
   "id": "826f4815",
   "metadata": {},
   "source": [
    "#### Once the function is created, call the matrix multiplication function used previously with two arguments as usual: the first one being the return of the rotation function call, and the second one being a 2x1 column matrix, which is a vector."
   ]
  },
  {
   "cell_type": "markdown",
   "id": "d40de70b",
   "metadata": {},
   "source": [
    "#### Then create a single function that will take as input an angle and the cartesian components of a two-dimensional vector and return the components after a rotation by the supplied angle."
   ]
  },
  {
   "cell_type": "code",
   "execution_count": 3,
   "id": "a8315062",
   "metadata": {},
   "outputs": [],
   "source": [
    "import numpy as np\n",
    "import Matrix_Mult_Func as mmf"
   ]
  },
  {
   "cell_type": "code",
   "execution_count": 4,
   "id": "573e5d73",
   "metadata": {},
   "outputs": [
    {
     "ename": "IndentationError",
     "evalue": "expected an indented block (3591664905.py, line 2)",
     "output_type": "error",
     "traceback": [
      "\u001b[0;36m  File \u001b[0;32m\"/var/folders/05/_m4lkjtn3p16v6rjlk_zcqvh0000gr/T/ipykernel_88818/3591664905.py\"\u001b[0;36m, line \u001b[0;32m2\u001b[0m\n\u001b[0;31m    \u001b[0m\n\u001b[0m    ^\u001b[0m\n\u001b[0;31mIndentationError\u001b[0m\u001b[0;31m:\u001b[0m expected an indented block\n"
     ]
    }
   ],
   "source": [
    "def rotation_func(angle):\n",
    "    "
   ]
  },
  {
   "cell_type": "code",
   "execution_count": 6,
   "id": "840f8201",
   "metadata": {},
   "outputs": [
    {
     "ename": "AttributeError",
     "evalue": "module 'numpy' has no attribute 'theta'",
     "output_type": "error",
     "traceback": [
      "\u001b[0;31m---------------------------------------------------------------------------\u001b[0m",
      "\u001b[0;31mAttributeError\u001b[0m                            Traceback (most recent call last)",
      "\u001b[0;32m/var/folders/05/_m4lkjtn3p16v6rjlk_zcqvh0000gr/T/ipykernel_88818/757338255.py\u001b[0m in \u001b[0;36m<module>\u001b[0;34m\u001b[0m\n\u001b[0;32m----> 1\u001b[0;31m R = np.array([[np.cos(np.theta), np.sin(np.theta),\n\u001b[0m\u001b[1;32m      2\u001b[0m               [-np.sin(np.theta), np.cos(np.theta)]]])\n",
      "\u001b[0;32m~/miniconda3/envs/Research/lib/python3.9/site-packages/numpy/__init__.py\u001b[0m in \u001b[0;36m__getattr__\u001b[0;34m(attr)\u001b[0m\n\u001b[1;32m    311\u001b[0m                 \u001b[0;32mreturn\u001b[0m \u001b[0mTester\u001b[0m\u001b[0;34m\u001b[0m\u001b[0;34m\u001b[0m\u001b[0m\n\u001b[1;32m    312\u001b[0m \u001b[0;34m\u001b[0m\u001b[0m\n\u001b[0;32m--> 313\u001b[0;31m             raise AttributeError(\"module {!r} has no attribute \"\n\u001b[0m\u001b[1;32m    314\u001b[0m                                  \"{!r}\".format(__name__, attr))\n\u001b[1;32m    315\u001b[0m \u001b[0;34m\u001b[0m\u001b[0m\n",
      "\u001b[0;31mAttributeError\u001b[0m: module 'numpy' has no attribute 'theta'"
     ]
    }
   ],
   "source": [
    "R = np.array([[np.cos(theta), np.sin(theta),\n",
    "              [-np.sin(theta), np.cos(theta)]]])"
   ]
  },
  {
   "cell_type": "code",
   "execution_count": null,
   "id": "49530e7b",
   "metadata": {},
   "outputs": [],
   "source": []
  }
 ],
 "metadata": {
  "kernelspec": {
   "display_name": "Research",
   "language": "python",
   "name": "research"
  },
  "language_info": {
   "codemirror_mode": {
    "name": "ipython",
    "version": 3
   },
   "file_extension": ".py",
   "mimetype": "text/x-python",
   "name": "python",
   "nbconvert_exporter": "python",
   "pygments_lexer": "ipython3",
   "version": "3.9.7"
  }
 },
 "nbformat": 4,
 "nbformat_minor": 5
}
